{
 "cells": [
  {
   "attachments": {},
   "cell_type": "markdown",
   "metadata": {},
   "source": [
    "Data Processing"
   ]
  },
  {
   "cell_type": "code",
   "execution_count": 1,
   "metadata": {},
   "outputs": [],
   "source": [
    "import pandas as pd\n",
    "import numpy as np\n",
    "import os"
   ]
  },
  {
   "cell_type": "code",
   "execution_count": 2,
   "metadata": {},
   "outputs": [],
   "source": [
    "root_path = os.getcwd()\n",
    "dataset_path = os.path.join(root_path, \"dataset\")\n",
    "caption_path = os.path.join(dataset_path, \"captions.csv\")\n",
    "video_folder = os.path.join(dataset_path, \"videos\")"
   ]
  },
  {
   "cell_type": "code",
   "execution_count": 3,
   "metadata": {},
   "outputs": [],
   "source": [
    "df = pd.read_csv(caption_path)"
   ]
  },
  {
   "cell_type": "code",
   "execution_count": 4,
   "metadata": {},
   "outputs": [
    {
     "name": "stdout",
     "output_type": "stream",
     "text": [
      "<class 'pandas.core.frame.DataFrame'>\n",
      "RangeIndex: 80826 entries, 0 to 80825\n",
      "Data columns (total 3 columns):\n",
      " #   Column         Non-Null Count  Dtype \n",
      "---  ------         --------------  ----- \n",
      " 0   original_text  80826 non-null  object\n",
      " 1   video_id       80826 non-null  object\n",
      " 2   eng_captions   80826 non-null  object\n",
      "dtypes: object(3)\n",
      "memory usage: 1.9+ MB\n"
     ]
    }
   ],
   "source": [
    "df.info()"
   ]
  },
  {
   "cell_type": "code",
   "execution_count": 5,
   "metadata": {},
   "outputs": [
    {
     "data": {
      "text/html": [
       "<div>\n",
       "<style scoped>\n",
       "    .dataframe tbody tr th:only-of-type {\n",
       "        vertical-align: middle;\n",
       "    }\n",
       "\n",
       "    .dataframe tbody tr th {\n",
       "        vertical-align: top;\n",
       "    }\n",
       "\n",
       "    .dataframe thead th {\n",
       "        text-align: right;\n",
       "    }\n",
       "</style>\n",
       "<table border=\"1\" class=\"dataframe\">\n",
       "  <thead>\n",
       "    <tr style=\"text-align: right;\">\n",
       "      <th></th>\n",
       "      <th>original_text</th>\n",
       "      <th>video_id</th>\n",
       "      <th>eng_captions</th>\n",
       "    </tr>\n",
       "  </thead>\n",
       "  <tbody>\n",
       "    <tr>\n",
       "      <th>0</th>\n",
       "      <td>-4wsuPCjDBc_5_15 a chipmunk is eating</td>\n",
       "      <td>-4wsuPCjDBc_5_15</td>\n",
       "      <td>a chipmunk is eating</td>\n",
       "    </tr>\n",
       "    <tr>\n",
       "      <th>1</th>\n",
       "      <td>-4wsuPCjDBc_5_15 a chipmunk is eating a peanut</td>\n",
       "      <td>-4wsuPCjDBc_5_15</td>\n",
       "      <td>a chipmunk is eating a peanut</td>\n",
       "    </tr>\n",
       "    <tr>\n",
       "      <th>2</th>\n",
       "      <td>-4wsuPCjDBc_5_15 a chipmunk is eating a nut</td>\n",
       "      <td>-4wsuPCjDBc_5_15</td>\n",
       "      <td>a chipmunk is eating a nut</td>\n",
       "    </tr>\n",
       "    <tr>\n",
       "      <th>3</th>\n",
       "      <td>-4wsuPCjDBc_5_15 a squirrel is eating a nut</td>\n",
       "      <td>-4wsuPCjDBc_5_15</td>\n",
       "      <td>a squirrel is eating a nut</td>\n",
       "    </tr>\n",
       "    <tr>\n",
       "      <th>4</th>\n",
       "      <td>-4wsuPCjDBc_5_15 a squirrel is eating a whole ...</td>\n",
       "      <td>-4wsuPCjDBc_5_15</td>\n",
       "      <td>a squirrel is eating a whole peanut</td>\n",
       "    </tr>\n",
       "  </tbody>\n",
       "</table>\n",
       "</div>"
      ],
      "text/plain": [
       "                                       original_text           video_id  \\\n",
       "0              -4wsuPCjDBc_5_15 a chipmunk is eating  -4wsuPCjDBc_5_15    \n",
       "1     -4wsuPCjDBc_5_15 a chipmunk is eating a peanut  -4wsuPCjDBc_5_15    \n",
       "2        -4wsuPCjDBc_5_15 a chipmunk is eating a nut  -4wsuPCjDBc_5_15    \n",
       "3        -4wsuPCjDBc_5_15 a squirrel is eating a nut  -4wsuPCjDBc_5_15    \n",
       "4  -4wsuPCjDBc_5_15 a squirrel is eating a whole ...  -4wsuPCjDBc_5_15    \n",
       "\n",
       "                          eng_captions  \n",
       "0                 a chipmunk is eating  \n",
       "1        a chipmunk is eating a peanut  \n",
       "2           a chipmunk is eating a nut  \n",
       "3           a squirrel is eating a nut  \n",
       "4  a squirrel is eating a whole peanut  "
      ]
     },
     "execution_count": 5,
     "metadata": {},
     "output_type": "execute_result"
    }
   ],
   "source": [
    "df.head(5)"
   ]
  },
  {
   "cell_type": "code",
   "execution_count": 6,
   "metadata": {},
   "outputs": [
    {
     "name": "stdout",
     "output_type": "stream",
     "text": [
      "Unique Videos: 1970\n"
     ]
    }
   ],
   "source": [
    "\n",
    "videos_list = df[\"video_id\"].unique()\n",
    "\n",
    "print(\"Unique Videos: {}\".format(len(videos_list)))"
   ]
  },
  {
   "cell_type": "code",
   "execution_count": 7,
   "metadata": {},
   "outputs": [
    {
     "name": "stdout",
     "output_type": "stream",
     "text": [
      "                  video_id  caption_count\n",
      "0        -4wsuPCjDBc_5_15              28\n",
      "1     -7KMZQEsJW4_205_208              42\n",
      "2     -8y1Q0rA3n8_108_115              32\n",
      "3      -8y1Q0rA3n8_95_102              27\n",
      "4       -9CUm-2cui8_39_44              28\n",
      "...                    ...            ...\n",
      "1965    zulPFoY64wE_26_33              34\n",
      "1966  zv2RIbUsnSw_159_162              25\n",
      "1967  zv2RIbUsnSw_335_341              28\n",
      "1968      zxB4dFJhHR8_1_9              53\n",
      "1969     zzit5b_-ukg_5_20              41\n",
      "\n",
      "[1970 rows x 2 columns]\n",
      "Average caption count: 41.028426395939086\n"
     ]
    }
   ],
   "source": [
    "caption_counts = df.groupby('video_id').size().reset_index(name='caption_count')\n",
    "print(caption_counts)\n",
    "\n",
    "average_caption_count = caption_counts['caption_count'].mean()\n",
    "print(\"Average caption count: {}\".format(average_caption_count))"
   ]
  },
  {
   "attachments": {},
   "cell_type": "markdown",
   "metadata": {},
   "source": [
    "Training Testing Split based on video_id"
   ]
  },
  {
   "cell_type": "code",
   "execution_count": 8,
   "metadata": {},
   "outputs": [
    {
     "name": "stdout",
     "output_type": "stream",
     "text": [
      "Training size: 1200 \n",
      "Validation Size: 100 \n",
      "Testing Size: 670\n",
      "\n"
     ]
    }
   ],
   "source": [
    "# from sklearn.model_selection import train_test_split\n",
    "# train_video_ids, remaining_video_ids = train_test_split(videos_list, train_size=1200, random_state=42)\n",
    "# valid_video_ids, test_video_ids = train_test_split(remaining_video_ids, test_size=670, random_state=42)\n",
    "# print(\"Training size: {} \\nValidation Size: {} \\nTesting Size: {}\\n\".format(len(train_video_ids),len(valid_video_ids),len(test_video_ids)))"
   ]
  },
  {
   "cell_type": "code",
   "execution_count": 9,
   "metadata": {},
   "outputs": [],
   "source": [
    "# train_df = df[df['video_id'].isin(train_video_ids)]\n",
    "# valid_df = df[df['video_id'].isin(valid_video_ids)]\n",
    "# test_df = df[df['video_id'].isin(test_video_ids)]"
   ]
  },
  {
   "cell_type": "code",
   "execution_count": 10,
   "metadata": {},
   "outputs": [],
   "source": [
    "# train_df.to_csv(os.path.join(dataset_path,'train_df.csv'))\n",
    "# valid_df.to_csv(os.path.join(dataset_path,'valid_df.csv'))\n",
    "# test_df.to_csv(os.path.join(dataset_path,'test_df.csv'))\n"
   ]
  },
  {
   "cell_type": "code",
   "execution_count": 11,
   "metadata": {},
   "outputs": [],
   "source": [
    "## Load CSV for consistency\n",
    "train_df = pd.read_csv(os.path.join(dataset_path, 'train_df.csv'))\n",
    "valid_df = pd.read_csv(os.path.join(dataset_path, 'valid_df.csv'))\n",
    "test_df = pd.read_csv(os.path.join(dataset_path, 'test_df.csv'))"
   ]
  },
  {
   "attachments": {},
   "cell_type": "markdown",
   "metadata": {},
   "source": [
    "Feature Extraction of Video"
   ]
  },
  {
   "attachments": {},
   "cell_type": "markdown",
   "metadata": {},
   "source": [
    "Processing the Captions"
   ]
  },
  {
   "attachments": {},
   "cell_type": "markdown",
   "metadata": {},
   "source": [
    "Creating the model"
   ]
  },
  {
   "attachments": {},
   "cell_type": "markdown",
   "metadata": {},
   "source": [
    "Model Training"
   ]
  },
  {
   "attachments": {},
   "cell_type": "markdown",
   "metadata": {},
   "source": [
    "Evaluating the Model"
   ]
  }
 ],
 "metadata": {
  "kernelspec": {
   "display_name": "Python 3",
   "language": "python",
   "name": "python3"
  },
  "language_info": {
   "codemirror_mode": {
    "name": "ipython",
    "version": 3
   },
   "file_extension": ".py",
   "mimetype": "text/x-python",
   "name": "python",
   "nbconvert_exporter": "python",
   "pygments_lexer": "ipython3",
   "version": "3.8.3"
  },
  "orig_nbformat": 4
 },
 "nbformat": 4,
 "nbformat_minor": 2
}
